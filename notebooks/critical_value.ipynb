{
 "cells": [
  {
   "cell_type": "markdown",
   "metadata": {},
   "source": [
    "# Calculation of the 5 % critical value\n",
    "\n",
    "Ref. Sansó et al. *Testing for Changes in the Unconditional Variance of Financial Time Series*, Chapter 5"
   ]
  },
  {
   "cell_type": "markdown",
   "metadata": {},
   "source": [
    "Set sample size T as n"
   ]
  },
  {
   "cell_type": "code",
   "execution_count": 1,
   "metadata": {},
   "outputs": [],
   "source": [
    "n = 200"
   ]
  },
  {
   "cell_type": "markdown",
   "metadata": {},
   "source": [
    "**The Inclan & Tiao (IT) critical value**\n",
    "<br>\n",
    "GAUSS [source](https://github.com/fokep/Sanso_et_al-ICSS/blob/40d14f93a1289a88781f6f75d416937aca890fd4/icss/icss.src#L290])"
   ]
  },
  {
   "cell_type": "code",
   "execution_count": 2,
   "metadata": {},
   "outputs": [
    {
     "data": {
      "text/plain": [
       "'1.3036'"
      ]
     },
     "execution_count": 2,
     "metadata": {},
     "output_type": "execute_result"
    }
   ],
   "source": [
    "# IT\n",
    "# Copied from the GAUSS source code\n",
    "\n",
    "cv = 1.35916702161 - 0.691555872065 / n - 0.737020411768 / (n**(1/2))\n",
    "\n",
    "format(cv, '.4f') # Notebook output with 4 digits after point\n"
   ]
  },
  {
   "cell_type": "code",
   "execution_count": 3,
   "metadata": {},
   "outputs": [
    {
     "data": {
      "text/plain": [
       "'1.3036'"
      ]
     },
     "execution_count": 3,
     "metadata": {},
     "output_type": "execute_result"
    }
   ],
   "source": [
    "# IT\n",
    "# \"Pythonic\" rewrite of expression above\n",
    "\n",
    "cv = 1.35916702161 \\\n",
    "    + (-0.737020411768 / (n**(1/2))) \\\n",
    "    + (-0.691555872065 / (n**1))\n",
    "\n",
    "format(cv, '.4f') # Notebook output with 4 digits after point\n"
   ]
  },
  {
   "cell_type": "code",
   "execution_count": 4,
   "metadata": {},
   "outputs": [
    {
     "data": {
      "text/plain": [
       "'1.3036'"
      ]
     },
     "execution_count": 4,
     "metadata": {},
     "output_type": "execute_result"
    }
   ],
   "source": [
    "# IT\n",
    "# Values from Table 2\n",
    "\n",
    "cv = 1.359167 \\\n",
    "    + (-0.737020 / (n**(1/2))) \\\n",
    "    + (-0.691556 / (n**1))\n",
    "\n",
    "format(cv, '.4f') # Notebook output with 4 digits after point\n"
   ]
  },
  {
   "cell_type": "markdown",
   "metadata": {},
   "source": [
    "**The Sanso Kappa 1 critical value**\n",
    "<br>\n",
    "GAUSS [source](https://github.com/fokep/Sanso_et_al-ICSS/blob/40d14f93a1289a88781f6f75d416937aca890fd4/icss/icss.src#L293)"
   ]
  },
  {
   "cell_type": "code",
   "execution_count": 5,
   "metadata": {},
   "outputs": [
    {
     "data": {
      "text/plain": [
       "'1.2998'"
      ]
     },
     "execution_count": 5,
     "metadata": {},
     "output_type": "execute_result"
    }
   ],
   "source": [
    "# Kappa 1\n",
    "# Copied from the GAUSS source code\n",
    "\n",
    "cv = 1.36393394011 + 0.500405392256 / n - 0.942936124935 / (n**(1/2))\n",
    "\n",
    "format(cv, '.4f') # Notebook output with 4 digits after point\n"
   ]
  },
  {
   "cell_type": "code",
   "execution_count": 6,
   "metadata": {},
   "outputs": [
    {
     "data": {
      "text/plain": [
       "'1.2998'"
      ]
     },
     "execution_count": 6,
     "metadata": {},
     "output_type": "execute_result"
    }
   ],
   "source": [
    "# Kappa 1\n",
    "# \"Pythonic\" rewrite of expression above\n",
    "\n",
    "cv = 1.36393394011 \\\n",
    "    + (-0.942936124935 / (n**(1/2))) \\\n",
    "    + (0.500405392256  / (n**1))\n",
    "\n",
    "format(cv, '.4f') # Notebook output with 4 digits after point\n"
   ]
  },
  {
   "cell_type": "code",
   "execution_count": 7,
   "metadata": {},
   "outputs": [
    {
     "data": {
      "text/plain": [
       "'1.2998'"
      ]
     },
     "execution_count": 7,
     "metadata": {},
     "output_type": "execute_result"
    }
   ],
   "source": [
    "# Kappa 1\n",
    "# Values from Table 2\n",
    "\n",
    "cv = 1.363934 \\\n",
    "    + (-0.942936 / (n**(1/2))) \\\n",
    "    + (0.500405  / (n**1))\n",
    "\n",
    "format(cv, '.4f') # Notebook output with 4 digits after point\n"
   ]
  },
  {
   "cell_type": "markdown",
   "metadata": {},
   "source": [
    "**The Sanso Kappa 2 critical value**\n",
    "<br>\n",
    "GAUSS [source](https://github.com/fokep/Sanso_et_al-ICSS/blob/40d14f93a1289a88781f6f75d416937aca890fd4/icss/icss.src#L301)"
   ]
  },
  {
   "cell_type": "code",
   "execution_count": 8,
   "metadata": {},
   "outputs": [
    {
     "data": {
      "text/plain": [
       "'1.2844'"
      ]
     },
     "execution_count": 8,
     "metadata": {},
     "output_type": "execute_result"
    }
   ],
   "source": [
    "# Kappa 2\n",
    "# Copied from the GAUSS source code\n",
    "# Something is wrong with this??????\n",
    "\n",
    "cv = 0.376035908994 - 3882905.1062 / (n**4) + 350603.023145 / (n**3) - 605.377401312 / (n**(2/3)) - 16685.0174926 / (n**2) + 184.011220614 / (n**(1/2)) + 1194.76624277 / n + 16485653.7171 / (n**5)\n",
    "\n",
    "format(cv, '.4f') # Notebook output with 4 digits after point\n"
   ]
  },
  {
   "cell_type": "code",
   "execution_count": 9,
   "metadata": {},
   "outputs": [
    {
     "data": {
      "text/plain": [
       "'1.2844'"
      ]
     },
     "execution_count": 9,
     "metadata": {},
     "output_type": "execute_result"
    }
   ],
   "source": [
    "# Kappa 2\n",
    "# \"Pythonic\" rewrite of expression above\n",
    "# Something is wrong with this??????\n",
    "\n",
    "cv = 0.376035908994 \\\n",
    "    + (184.011220614  / (n**((1/2)))) \\\n",
    "    + (-605.377401312 / (n**((2/3)))) \\\n",
    "    + (1194.76624277  / (n**1))       \\\n",
    "    + (-16685.0174926 / (n**2))       \\\n",
    "    + (350603.023145  / (n**3))       \\\n",
    "    + (-3882905.1062  / (n**4))       \\\n",
    "    + (16485653.7171  / (n**5))\n",
    "\n",
    "format(cv, '.4f') # Notebook output with 4 digits after point\n"
   ]
  },
  {
   "cell_type": "code",
   "execution_count": 10,
   "metadata": {},
   "outputs": [
    {
     "data": {
      "text/plain": [
       "'1.2919'"
      ]
     },
     "execution_count": 10,
     "metadata": {},
     "output_type": "execute_result"
    }
   ],
   "source": [
    "# Kappa 2\n",
    "# Values from Table 2\n",
    "\n",
    "cv = 1.405828 \\\n",
    "    + (-3.317278 / (n**(1/2))) \\\n",
    "    + (31.22133  / (n**1))     \\\n",
    "    + (-1672.206 / (n**2))     \\\n",
    "    + (52870.53  / (n**3))     \\\n",
    "    + (-411015   / (n**4))\n",
    "\n",
    "format(cv, '.4f') # Notebook output with 4 digits after point\n"
   ]
  },
  {
   "cell_type": "markdown",
   "metadata": {},
   "source": [
    "**Critical value function**\n",
    "<br>\n",
    "For use in ICSS algorithm"
   ]
  },
  {
   "cell_type": "code",
   "execution_count": 11,
   "metadata": {},
   "outputs": [],
   "source": [
    "def critical_value(test_type, sample_size):\n",
    "    \"\"\"Returns the 5 % critical value for a given sample size.\n",
    "    Response surface coefficients copied from Table 2 in Sansó et al., 2004,\n",
    "    'Testing for Changes in the Unconditional Variance of Financial Time Series'\n",
    "    \n",
    "    Input:\n",
    "        test_type    -- 'IT': Inclan & Tiao / 'K1': Kappa 1 / 'K2': Kappa 2\n",
    "        sample_size  -- Sample size T, length of timeseries\n",
    "    \n",
    "    Output:\n",
    "        cv           -- Critical value, rounded to 4 digits after point\n",
    "    \n",
    "    \"\"\"\n",
    "    n = sample_size\n",
    "    \n",
    "    if test_type == 'IT':\n",
    "        cv = 1.359167 \\\n",
    "            + (-0.737020 / (n**(1/2))) \\\n",
    "            + (-0.691556 / (n**1))\n",
    "    \n",
    "    if test_type == 'K1':\n",
    "        cv = 1.363934 \\\n",
    "            + (-0.942936 / (n**(1/2))) \\\n",
    "            + (0.500405  / (n**1))\n",
    "    \n",
    "    if test_type == 'K2':\n",
    "        cv = 1.405828 \\\n",
    "            + (-3.317278 / (n**(1/2))) \\\n",
    "            + (31.22133  / (n**1))     \\\n",
    "            + (-1672.206 / (n**2))     \\\n",
    "            + (52870.53  / (n**3))     \\\n",
    "            + (-411015   / (n**4))\n",
    "        \n",
    "    try:\n",
    "        return round(cv, 4) # Rounds to 4 digits after point\n",
    "    except:\n",
    "        print('An exception occurred, check your input')"
   ]
  },
  {
   "cell_type": "markdown",
   "metadata": {},
   "source": [
    "Example use:"
   ]
  },
  {
   "cell_type": "code",
   "execution_count": 12,
   "metadata": {},
   "outputs": [
    {
     "data": {
      "text/plain": [
       "1.2998"
      ]
     },
     "execution_count": 12,
     "metadata": {},
     "output_type": "execute_result"
    }
   ],
   "source": [
    "critical_value('K1', 200)"
   ]
  }
 ],
 "metadata": {
  "kernelspec": {
   "display_name": "Python 3",
   "language": "python",
   "name": "python3"
  },
  "language_info": {
   "codemirror_mode": {
    "name": "ipython",
    "version": 3
   },
   "file_extension": ".py",
   "mimetype": "text/x-python",
   "name": "python",
   "nbconvert_exporter": "python",
   "pygments_lexer": "ipython3",
   "version": "3.7.0"
  }
 },
 "nbformat": 4,
 "nbformat_minor": 2
}
